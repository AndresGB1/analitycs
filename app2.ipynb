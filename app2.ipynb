{
 "cells": [
  {
   "cell_type": "markdown",
   "id": "69df515b-81d1-4daa-b802-ee77d2e22240",
   "metadata": {},
   "source": [
    "### Imports"
   ]
  },
  {
   "cell_type": "code",
   "execution_count": 24,
   "id": "ec1ac0be-a50a-46e9-8147-ebdead8acb82",
   "metadata": {},
   "outputs": [],
   "source": [
    "import requests\n",
    "from datetime import date\n",
    "import pandas as pd\n",
    "import itertools\n",
    "import csv\n",
    "import re\n",
    "from unicodedata import normalize\n",
    "from decouple import Config, RepositoryEnv"
   ]
  },
  {
   "cell_type": "markdown",
   "id": "779d867d-b4a4-46cb-879c-da671842cacb",
   "metadata": {},
   "source": [
    "### Getting the urls from the config file"
   ]
  },
  {
   "cell_type": "code",
   "execution_count": 25,
   "id": "28f29d7e-ee18-4cd7-9998-20b09b82402c",
   "metadata": {},
   "outputs": [],
   "source": [
    "DOTENV_FILE = '.env'\n",
    "config = Config(RepositoryEnv(DOTENV_FILE))"
   ]
  },
  {
   "cell_type": "code",
   "execution_count": 26,
   "id": "4864d027-afba-4159-8b71-34e6159c4cb0",
   "metadata": {},
   "outputs": [],
   "source": [
    "url_museos = config('URL_MUSEOS')\n",
    "url_cines = config('URL_CINES')\n",
    "url_bibliotecas = config('URL_BIBLIOTECAS')"
   ]
  },
  {
   "cell_type": "markdown",
   "id": "0d60803f-7918-4f5f-8278-c855521a3273",
   "metadata": {},
   "source": [
    "### Function to create the name of the csv files with the date"
   ]
  },
  {
   "cell_type": "code",
   "execution_count": 27,
   "id": "0519c8d8-57a6-44ce-bc66-03c90491c445",
   "metadata": {},
   "outputs": [],
   "source": [
    "def create_name(categoria):\n",
    "    name = categoria + '\\\\' + date.today().strftime('%Y-%m') + '\\\\' + categoria + '-' + date.today().strftime('%d-%m-%Y') + '.csv'\n",
    "    return name"
   ]
  },
  {
   "cell_type": "markdown",
   "id": "bfeb5a9a-41d2-4150-b467-5fbd82fdda37",
   "metadata": {},
   "source": [
    "### Creating the names of the csv files "
   ]
  },
  {
   "cell_type": "code",
   "execution_count": 28,
   "id": "d6bcde60-86a6-47fc-ad13-0ba05c48a13b",
   "metadata": {},
   "outputs": [],
   "source": [
    "name_museos = create_name('museos')\n",
    "name_cines = create_name('cines')\n",
    "name_bibliotecas = create_name('bibliotecas')"
   ]
  },
  {
   "cell_type": "markdown",
   "id": "e89a0093-d001-4bc2-a5fd-57df44cac1ab",
   "metadata": {},
   "source": [
    "### Header without accent and to lower case"
   ]
  },
  {
   "cell_type": "code",
   "execution_count": 29,
   "id": "bf2d61ad",
   "metadata": {},
   "outputs": [],
   "source": [
    "\n",
    "def normalize_string(s):\n",
    "    s = re.sub(r\"([^n\\u0300-\\u036f]|n(?!\\u0303(?![\\u0300-\\u036f])))[\\u0300-\\u036f]+\", r\"\\1\", normalize('NFD', s), 0, re.I)\n",
    "    return normalize('NFC', s).lower()"
   ]
  },
  {
   "cell_type": "code",
   "execution_count": 74,
   "id": "fa602c3c",
   "metadata": {},
   "outputs": [],
   "source": [
    "def change_header_csv(name):\n",
    "    with open(name, 'r') as f:\n",
    "        reader = csv.reader(f)\n",
    "        header = next(reader)  \n",
    "        header = list(map(normalize_string, header))\n",
    "        rows = [header] + list(reader)  \n",
    "    with open(name, 'w', newline='') as f:\n",
    "        writer = csv.writer(f)\n",
    "        writer.writerows(rows)  "
   ]
  },
  {
   "cell_type": "markdown",
   "id": "b6d164fc-353e-47cd-83ab-195178fbafae",
   "metadata": {},
   "source": [
    "### Downloading the CSV"
   ]
  },
  {
   "cell_type": "code",
   "execution_count": 59,
   "id": "ba1abebb-ef7a-43f1-92ef-5a444c789a36",
   "metadata": {},
   "outputs": [],
   "source": [
    "def get_csv(url, name):\n",
    "    r = requests.get(url)\n",
    "    with open(name, 'wb') as f:\n",
    "        f.write(r.content)\n",
    "    change_header_csv(name)\n",
    "    "
   ]
  },
  {
   "cell_type": "code",
   "execution_count": 70,
   "id": "b96569fc-c74e-4358-820a-53792cbf1ac7",
   "metadata": {},
   "outputs": [],
   "source": [
    "def download_data():\n",
    "    get_csv(url_museos, name_museos)\n",
    "    get_csv(url_cines, name_cines)\n",
    "    get_csv(url_bibliotecas, name_bibliotecas)"
   ]
  },
  {
   "cell_type": "code",
   "execution_count": 75,
   "id": "21c7dba6-c661-4335-a185-fc03e9f5e1b9",
   "metadata": {},
   "outputs": [],
   "source": [
    "download_data()"
   ]
  },
  {
   "cell_type": "markdown",
   "id": "9b9aba87-d019-4af5-be1a-2bda7fafb502",
   "metadata": {},
   "source": [
    "## Processing Data"
   ]
  },
  {
   "cell_type": "markdown",
   "id": "9533b86e-b23b-45b4-96ce-71919a9210d8",
   "metadata": {},
   "source": [
    "### Creating the DataFrame 1"
   ]
  },
  {
   "cell_type": "code",
   "execution_count": 182,
   "id": "60851369-a3cf-4d3a-9421-1034ea36271c",
   "metadata": {},
   "outputs": [],
   "source": [
    "df_museos = pd.read_csv(name_museos)\n",
    "df_cines = pd.read_csv(name_cines)\n",
    "df_bibliotecas = pd.read_csv(name_bibliotecas)"
   ]
  },
  {
   "cell_type": "code",
   "execution_count": 183,
   "id": "38cceca1-74a3-451a-955f-99448dae2245",
   "metadata": {},
   "outputs": [],
   "source": [
    "def changeHeader(df):\n",
    "    df.rename({'cod_loc': 'cod_localidad', 'idprovincia': 'id_provincia', 'iddepartamento': 'id_departamento', 'cp': 'cod_postal', 'telefono': 'numero_telefono'}, axis=1, inplace=True)\n",
    "    return df"
   ]
  },
  {
   "cell_type": "code",
   "execution_count": 186,
   "id": "8bb44be9-b03c-4e33-a44a-1db15f8635c3",
   "metadata": {},
   "outputs": [],
   "source": [
    "def normalize_table(museos, cines, bibliotecas):\n",
    "    headersBiliotecas = ['cod_loc', 'idprovincia', 'iddepartamento', 'categoria', 'provincia', 'localidad', 'nombre', 'cp', 'telefono', 'mail', 'web','domicilio']\n",
    "    headers = ['cod_loc', 'idprovincia', 'iddepartamento', 'categoria', 'provincia', 'localidad', 'nombre','cp', 'telefono', 'mail', 'web']\n",
    "    \n",
    "    df_museos2 = df_museos[headers]\n",
    "    df_cines2 = df_cines[headers]\n",
    "    df_bibliotecas2 = df_bibliotecas[headersBiliotecas]\n",
    "\n",
    "    #Merge the dataframes\n",
    "    df_normalize = pd.concat([df_museos2, df_cines2, df_bibliotecas2])\n",
    "    return changeHeader(df_normalize)"
   ]
  },
  {
   "cell_type": "code",
   "execution_count": 187,
   "id": "7c7ccb60",
   "metadata": {},
   "outputs": [],
   "source": [
    "table1 = normalize_table(name_museos,name_cines,name_bibliotecas)"
   ]
  },
  {
   "cell_type": "code",
   "execution_count": null,
   "id": "c5fa8a4a-e18c-487a-8c95-30b3ed01a379",
   "metadata": {},
   "outputs": [],
   "source": [
    "table1"
   ]
  },
  {
   "cell_type": "markdown",
   "id": "5e21656a-182f-4f81-b360-2a3579d235ab",
   "metadata": {},
   "source": [
    "### Creating the DataFrame 2"
   ]
  },
  {
   "cell_type": "code",
   "execution_count": 235,
   "id": "cd3f07f3-69c6-47e0-a56d-8aac4e592193",
   "metadata": {},
   "outputs": [],
   "source": [
    "def register_count_table():\n",
    "     #Headers of the dataframes \n",
    "    headers = ['id', 'categoria', 'fuente', 'provincia_categoria', 'cantidad']\n",
    "   \n",
    "    #Get categories and count how many times they appear from bibliotecas\n",
    "    df_bibliotecas2 = df_bibliotecas[['categoria', 'provincia', 'fuente']]\n",
    "    df_cines2 = df_cines[['categoria', 'provincia', 'fuente']]\n",
    "    df_museos2 = df_museos[['categoria', 'provincia', 'fuente']]\n",
    "\n",
    "    \n",
    "    #Count categories  from bibliotecas\n",
    "    categoria_biblioteca = df_bibliotecas2.groupby(['categoria']).size().reset_index(name='registros_categorias')\n",
    "    fuente_biblioteca = df_bibliotecas2.groupby(['fuente']).size().reset_index(name='registros_fuentes')\n",
    "    provincia_categoria_biblioteca = df_bibliotecas2.groupby(['provincia', 'categoria']).size().reset_index(name='registros_provincia_categoria')\n",
    "\n",
    "    #Count categories  from cines\n",
    "    categoria_cine = df_cines2.groupby(['categoria']).size().reset_index(name='registros_categorias')\n",
    "    fuente_cine = df_cines2.groupby(['fuente']).size().reset_index(name='registros_fuentes')\n",
    "    provincia_categoria_cine = df_cines2.groupby(['provincia', 'categoria']).size().reset_index(name='registros_provincia_categoria')\n",
    "\n",
    "    #Count categories  from museos\n",
    "    categoria_museo = df_museos2.groupby(['categoria']).size().reset_index(name='registros_categorias')\n",
    "    fuente_museo = df_museos2.groupby(['fuente']).size().reset_index(name='registros_fuentes')\n",
    "    provincia_categoria_museo = df_museos2.groupby(['provincia', 'categoria']).size().reset_index(name='registros_provincia_categoria')\n",
    "    #Merge the dataframes\n",
    "    df_normalize = pd.concat([categoria_biblioteca, fuente_biblioteca, provincia_categoria_biblioteca, categoria_cine, fuente_cine, provincia_categoria_cine, categoria_museo, fuente_museo, provincia_categoria_museo])\n",
    "    df_normalize.to_csv('cantidad_categorias.csv', index=False)\n",
    "    return df_normalize\n",
    "    \n",
    "    "
   ]
  },
  {
   "cell_type": "code",
   "execution_count": 236,
   "id": "77fe06aa-0b22-4ea1-aa3b-3ef4b6719824",
   "metadata": {},
   "outputs": [
    {
     "data": {
      "text/html": [
       "<div>\n",
       "<style scoped>\n",
       "    .dataframe tbody tr th:only-of-type {\n",
       "        vertical-align: middle;\n",
       "    }\n",
       "\n",
       "    .dataframe tbody tr th {\n",
       "        vertical-align: top;\n",
       "    }\n",
       "\n",
       "    .dataframe thead th {\n",
       "        text-align: right;\n",
       "    }\n",
       "</style>\n",
       "<table border=\"1\" class=\"dataframe\">\n",
       "  <thead>\n",
       "    <tr style=\"text-align: right;\">\n",
       "      <th></th>\n",
       "      <th>categoria</th>\n",
       "      <th>registros_categorias</th>\n",
       "      <th>fuente</th>\n",
       "      <th>registros_fuentes</th>\n",
       "      <th>provincia</th>\n",
       "      <th>registros_provincia_categoria</th>\n",
       "      <th>id</th>\n",
       "    </tr>\n",
       "  </thead>\n",
       "  <tbody>\n",
       "    <tr>\n",
       "      <th>0</th>\n",
       "      <td>Bibliotecas Populares</td>\n",
       "      <td>2017.0</td>\n",
       "      <td>NaN</td>\n",
       "      <td>NaN</td>\n",
       "      <td>NaN</td>\n",
       "      <td>NaN</td>\n",
       "      <td>1</td>\n",
       "    </tr>\n",
       "    <tr>\n",
       "      <th>0</th>\n",
       "      <td>NaN</td>\n",
       "      <td>NaN</td>\n",
       "      <td>CONABIP</td>\n",
       "      <td>2010.0</td>\n",
       "      <td>NaN</td>\n",
       "      <td>NaN</td>\n",
       "      <td>1</td>\n",
       "    </tr>\n",
       "    <tr>\n",
       "      <th>1</th>\n",
       "      <td>NaN</td>\n",
       "      <td>NaN</td>\n",
       "      <td>Gob. Pcia.</td>\n",
       "      <td>1.0</td>\n",
       "      <td>NaN</td>\n",
       "      <td>NaN</td>\n",
       "      <td>2</td>\n",
       "    </tr>\n",
       "    <tr>\n",
       "      <th>2</th>\n",
       "      <td>NaN</td>\n",
       "      <td>NaN</td>\n",
       "      <td>Secretaria de Cultura Provincial</td>\n",
       "      <td>6.0</td>\n",
       "      <td>NaN</td>\n",
       "      <td>NaN</td>\n",
       "      <td>3</td>\n",
       "    </tr>\n",
       "    <tr>\n",
       "      <th>0</th>\n",
       "      <td>Bibliotecas Populares</td>\n",
       "      <td>NaN</td>\n",
       "      <td>NaN</td>\n",
       "      <td>NaN</td>\n",
       "      <td>Buenos Aires</td>\n",
       "      <td>543.0</td>\n",
       "      <td>1</td>\n",
       "    </tr>\n",
       "    <tr>\n",
       "      <th>...</th>\n",
       "      <td>...</td>\n",
       "      <td>...</td>\n",
       "      <td>...</td>\n",
       "      <td>...</td>\n",
       "      <td>...</td>\n",
       "      <td>...</td>\n",
       "      <td>...</td>\n",
       "    </tr>\n",
       "    <tr>\n",
       "      <th>19</th>\n",
       "      <td>Espacios de Exhibición Patrimonial</td>\n",
       "      <td>NaN</td>\n",
       "      <td>NaN</td>\n",
       "      <td>NaN</td>\n",
       "      <td>Santa Cruz</td>\n",
       "      <td>20.0</td>\n",
       "      <td>20</td>\n",
       "    </tr>\n",
       "    <tr>\n",
       "      <th>20</th>\n",
       "      <td>Espacios de Exhibición Patrimonial</td>\n",
       "      <td>NaN</td>\n",
       "      <td>NaN</td>\n",
       "      <td>NaN</td>\n",
       "      <td>Santa Fe</td>\n",
       "      <td>162.0</td>\n",
       "      <td>21</td>\n",
       "    </tr>\n",
       "    <tr>\n",
       "      <th>21</th>\n",
       "      <td>Espacios de Exhibición Patrimonial</td>\n",
       "      <td>NaN</td>\n",
       "      <td>NaN</td>\n",
       "      <td>NaN</td>\n",
       "      <td>Santiago del Estero</td>\n",
       "      <td>10.0</td>\n",
       "      <td>22</td>\n",
       "    </tr>\n",
       "    <tr>\n",
       "      <th>22</th>\n",
       "      <td>Espacios de Exhibición Patrimonial</td>\n",
       "      <td>NaN</td>\n",
       "      <td>NaN</td>\n",
       "      <td>NaN</td>\n",
       "      <td>Tierra del Fuego, Antártida e Islas del Atlánt...</td>\n",
       "      <td>14.0</td>\n",
       "      <td>23</td>\n",
       "    </tr>\n",
       "    <tr>\n",
       "      <th>23</th>\n",
       "      <td>Espacios de Exhibición Patrimonial</td>\n",
       "      <td>NaN</td>\n",
       "      <td>NaN</td>\n",
       "      <td>NaN</td>\n",
       "      <td>Tucumán</td>\n",
       "      <td>26.0</td>\n",
       "      <td>24</td>\n",
       "    </tr>\n",
       "  </tbody>\n",
       "</table>\n",
       "<p>106 rows × 7 columns</p>\n",
       "</div>"
      ],
      "text/plain": [
       "                             categoria  registros_categorias  \\\n",
       "0                Bibliotecas Populares                2017.0   \n",
       "0                                  NaN                   NaN   \n",
       "1                                  NaN                   NaN   \n",
       "2                                  NaN                   NaN   \n",
       "0                Bibliotecas Populares                   NaN   \n",
       "..                                 ...                   ...   \n",
       "19  Espacios de Exhibición Patrimonial                   NaN   \n",
       "20  Espacios de Exhibición Patrimonial                   NaN   \n",
       "21  Espacios de Exhibición Patrimonial                   NaN   \n",
       "22  Espacios de Exhibición Patrimonial                   NaN   \n",
       "23  Espacios de Exhibición Patrimonial                   NaN   \n",
       "\n",
       "                              fuente  registros_fuentes  \\\n",
       "0                                NaN                NaN   \n",
       "0                            CONABIP             2010.0   \n",
       "1                         Gob. Pcia.                1.0   \n",
       "2   Secretaria de Cultura Provincial                6.0   \n",
       "0                                NaN                NaN   \n",
       "..                               ...                ...   \n",
       "19                               NaN                NaN   \n",
       "20                               NaN                NaN   \n",
       "21                               NaN                NaN   \n",
       "22                               NaN                NaN   \n",
       "23                               NaN                NaN   \n",
       "\n",
       "                                            provincia  \\\n",
       "0                                                 NaN   \n",
       "0                                                 NaN   \n",
       "1                                                 NaN   \n",
       "2                                                 NaN   \n",
       "0                                        Buenos Aires   \n",
       "..                                                ...   \n",
       "19                                         Santa Cruz   \n",
       "20                                           Santa Fe   \n",
       "21                                Santiago del Estero   \n",
       "22  Tierra del Fuego, Antártida e Islas del Atlánt...   \n",
       "23                                            Tucumán   \n",
       "\n",
       "    registros_provincia_categoria  id  \n",
       "0                             NaN   1  \n",
       "0                             NaN   1  \n",
       "1                             NaN   2  \n",
       "2                             NaN   3  \n",
       "0                           543.0   1  \n",
       "..                            ...  ..  \n",
       "19                           20.0  20  \n",
       "20                          162.0  21  \n",
       "21                           10.0  22  \n",
       "22                           14.0  23  \n",
       "23                           26.0  24  \n",
       "\n",
       "[106 rows x 7 columns]"
      ]
     },
     "execution_count": 236,
     "metadata": {},
     "output_type": "execute_result"
    }
   ],
   "source": [
    "register_count_table()"
   ]
  },
  {
   "cell_type": "code",
   "execution_count": 233,
   "id": "6774fe2b-4057-402b-bbaa-7f88ca5df2bc",
   "metadata": {},
   "outputs": [],
   "source": [
    "def info_cine():\n",
    "   df_cines2 = df_cines[['provincia', 'pantallas', 'butacas', 'espacio_incaa']]\n",
    "   return df_cines2"
   ]
  },
  {
   "cell_type": "code",
   "execution_count": 234,
   "id": "6d6ef4dd-072d-495b-b44a-9575089d052b",
   "metadata": {},
   "outputs": [
    {
     "data": {
      "text/html": [
       "<div>\n",
       "<style scoped>\n",
       "    .dataframe tbody tr th:only-of-type {\n",
       "        vertical-align: middle;\n",
       "    }\n",
       "\n",
       "    .dataframe tbody tr th {\n",
       "        vertical-align: top;\n",
       "    }\n",
       "\n",
       "    .dataframe thead th {\n",
       "        text-align: right;\n",
       "    }\n",
       "</style>\n",
       "<table border=\"1\" class=\"dataframe\">\n",
       "  <thead>\n",
       "    <tr style=\"text-align: right;\">\n",
       "      <th></th>\n",
       "      <th>provincia</th>\n",
       "      <th>pantallas</th>\n",
       "      <th>butacas</th>\n",
       "      <th>espacio_incaa</th>\n",
       "    </tr>\n",
       "  </thead>\n",
       "  <tbody>\n",
       "    <tr>\n",
       "      <th>0</th>\n",
       "      <td>Catamarca</td>\n",
       "      <td>5</td>\n",
       "      <td>743</td>\n",
       "      <td>NaN</td>\n",
       "    </tr>\n",
       "    <tr>\n",
       "      <th>1</th>\n",
       "      <td>Catamarca</td>\n",
       "      <td>1</td>\n",
       "      <td>440</td>\n",
       "      <td>0</td>\n",
       "    </tr>\n",
       "    <tr>\n",
       "      <th>2</th>\n",
       "      <td>Chaco</td>\n",
       "      <td>5</td>\n",
       "      <td>820</td>\n",
       "      <td>NaN</td>\n",
       "    </tr>\n",
       "    <tr>\n",
       "      <th>3</th>\n",
       "      <td>Chubut</td>\n",
       "      <td>1</td>\n",
       "      <td>80</td>\n",
       "      <td>NaN</td>\n",
       "    </tr>\n",
       "    <tr>\n",
       "      <th>4</th>\n",
       "      <td>Corrientes</td>\n",
       "      <td>1</td>\n",
       "      <td>240</td>\n",
       "      <td>NaN</td>\n",
       "    </tr>\n",
       "    <tr>\n",
       "      <th>...</th>\n",
       "      <td>...</td>\n",
       "      <td>...</td>\n",
       "      <td>...</td>\n",
       "      <td>...</td>\n",
       "    </tr>\n",
       "    <tr>\n",
       "      <th>324</th>\n",
       "      <td>Buenos Aires</td>\n",
       "      <td>1</td>\n",
       "      <td>0</td>\n",
       "      <td>NaN</td>\n",
       "    </tr>\n",
       "    <tr>\n",
       "      <th>325</th>\n",
       "      <td>Buenos Aires</td>\n",
       "      <td>8</td>\n",
       "      <td>2037</td>\n",
       "      <td>NaN</td>\n",
       "    </tr>\n",
       "    <tr>\n",
       "      <th>326</th>\n",
       "      <td>Buenos Aires</td>\n",
       "      <td>1</td>\n",
       "      <td>430</td>\n",
       "      <td>si</td>\n",
       "    </tr>\n",
       "    <tr>\n",
       "      <th>327</th>\n",
       "      <td>Catamarca</td>\n",
       "      <td>1</td>\n",
       "      <td>1103</td>\n",
       "      <td>si</td>\n",
       "    </tr>\n",
       "    <tr>\n",
       "      <th>328</th>\n",
       "      <td>Buenos Aires</td>\n",
       "      <td>1</td>\n",
       "      <td>390</td>\n",
       "      <td>SI</td>\n",
       "    </tr>\n",
       "  </tbody>\n",
       "</table>\n",
       "<p>329 rows × 4 columns</p>\n",
       "</div>"
      ],
      "text/plain": [
       "        provincia  pantallas  butacas espacio_incaa\n",
       "0       Catamarca          5      743           NaN\n",
       "1       Catamarca          1      440             0\n",
       "2           Chaco          5      820           NaN\n",
       "3          Chubut          1       80           NaN\n",
       "4      Corrientes          1      240           NaN\n",
       "..            ...        ...      ...           ...\n",
       "324  Buenos Aires          1        0           NaN\n",
       "325  Buenos Aires          8     2037           NaN\n",
       "326  Buenos Aires          1      430            si\n",
       "327     Catamarca          1     1103            si\n",
       "328  Buenos Aires          1      390            SI\n",
       "\n",
       "[329 rows x 4 columns]"
      ]
     },
     "execution_count": 234,
     "metadata": {},
     "output_type": "execute_result"
    }
   ],
   "source": [
    "info_cine()"
   ]
  },
  {
   "cell_type": "code",
   "execution_count": null,
   "id": "17d1b4bd-48b0-47a9-81ea-f68a6e5c9ef4",
   "metadata": {},
   "outputs": [],
   "source": []
  }
 ],
 "metadata": {
  "kernelspec": {
   "display_name": "jupyter",
   "language": "python",
   "name": "jupyter"
  },
  "language_info": {
   "codemirror_mode": {
    "name": "ipython",
    "version": 3
   },
   "file_extension": ".py",
   "mimetype": "text/x-python",
   "name": "python",
   "nbconvert_exporter": "python",
   "pygments_lexer": "ipython3",
   "version": "3.10.5"
  }
 },
 "nbformat": 4,
 "nbformat_minor": 5
}
