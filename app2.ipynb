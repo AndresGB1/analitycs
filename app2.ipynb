{
 "cells": [
  {
   "cell_type": "code",
   "execution_count": 7,
   "id": "ec1ac0be-a50a-46e9-8147-ebdead8acb82",
   "metadata": {},
   "outputs": [],
   "source": [
    "import requests\n",
    "from datetime import date\n",
    "import pandas as pd\n",
    "import itertools\n",
    "import csv\n",
    "import re\n",
    "from unicodedata import normalize\n",
    "from decouple import Config, RepositoryEnv"
   ]
  },
  {
   "cell_type": "code",
   "execution_count": 8,
   "id": "28f29d7e-ee18-4cd7-9998-20b09b82402c",
   "metadata": {},
   "outputs": [],
   "source": [
    "DOTENV_FILE = '.env'\n",
    "config = Config(RepositoryEnv(DOTENV_FILE))"
   ]
  },
  {
   "cell_type": "code",
   "execution_count": 9,
   "id": "4864d027-afba-4159-8b71-34e6159c4cb0",
   "metadata": {},
   "outputs": [],
   "source": [
    "url_museos = config('URL_MUSEOS')\n",
    "url_cines = config('URL_CINES')\n",
    "url_bibliotecas = config('URL_BIBLIOTECAS')"
   ]
  },
  {
   "cell_type": "code",
   "execution_count": 38,
   "id": "0519c8d8-57a6-44ce-bc66-03c90491c445",
   "metadata": {},
   "outputs": [],
   "source": [
    "def create_name(categoria):\n",
    "    name = categoria + '\\\\' + date.today().strftime('%Y-%m') + '\\\\' + categoria + '-' + date.today().strftime('%d-%m-%Y') + '.csv'\n",
    "    return name"
   ]
  },
  {
   "cell_type": "code",
   "execution_count": 39,
   "id": "d6bcde60-86a6-47fc-ad13-0ba05c48a13b",
   "metadata": {},
   "outputs": [],
   "source": [
    "name_museos = create_name('museos')\n",
    "name_cines = create_name('cines')\n",
    "name_bibliotecas = create_name('bibliotecas')"
   ]
  },
  {
   "cell_type": "code",
   "execution_count": null,
   "id": "bf2d61ad",
   "metadata": {},
   "outputs": [],
   "source": [
    "\n",
    "def normalize_string(s):\n",
    "    s = re.sub(r\"([^n\\u0300-\\u036f]|n(?!\\u0303(?![\\u0300-\\u036f])))[\\u0300-\\u036f]+\", r\"\\1\", normalize('NFD', s), 0, re.I)\n",
    "    return normalize('NFC', s).lower()"
   ]
  },
  {
   "cell_type": "code",
   "execution_count": null,
   "id": "fa602c3c",
   "metadata": {},
   "outputs": [],
   "source": [
    "def change_header_csv(name):\n",
    "    with open(name, 'r') as f:\n",
    "        reader = csv.reader(f)\n",
    "        header = next(reader)\n",
    "        header = list(map(normalize_string, header))\n",
    "        with open(name, 'w') as f:\n",
    "            writer = csv.writer(f)\n",
    "            writer.writerow(header)\n",
    "            writer.writerows(reader)"
   ]
  },
  {
   "cell_type": "code",
   "execution_count": 42,
   "id": "ba1abebb-ef7a-43f1-92ef-5a444c789a36",
   "metadata": {},
   "outputs": [],
   "source": [
    "def get_csv(url, name):\n",
    "    r = requests.get(url)\n",
    "    with open(name, 'wb') as f:\n",
    "        f.write(r.content)"
   ]
  },
  {
   "cell_type": "code",
   "execution_count": 44,
   "id": "b96569fc-c74e-4358-820a-53792cbf1ac7",
   "metadata": {},
   "outputs": [],
   "source": [
    "def download_data():\n",
    "    get_csv(url_museos, name_museos)\n",
    "    get_csv(url_cines, name_cines)\n",
    "    get_csv(url_bibliotecas, name_bibliotecas)"
   ]
  }
 ],
 "metadata": {
  "kernelspec": {
   "display_name": "jupyter",
   "language": "python",
   "name": "jupyter"
  },
  "language_info": {
   "codemirror_mode": {
    "name": "ipython",
    "version": 3
   },
   "file_extension": ".py",
   "mimetype": "text/x-python",
   "name": "python",
   "nbconvert_exporter": "python",
   "pygments_lexer": "ipython3",
   "version": "3.10.5"
  }
 },
 "nbformat": 4,
 "nbformat_minor": 5
}
